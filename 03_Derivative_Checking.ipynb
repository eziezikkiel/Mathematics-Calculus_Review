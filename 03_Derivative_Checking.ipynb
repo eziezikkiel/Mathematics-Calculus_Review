{
 "cells": [
  {
   "cell_type": "markdown",
   "metadata": {},
   "source": [
    "# Derivative Checking\n",
    "\n",
    "This is my own notebook for limits in Udemy course Math 0-1: Calculus for Data Science & Machine Learning by Lazy Programmer on the topic of derivatives."
   ]
  },
  {
   "cell_type": "code",
   "execution_count": 10,
   "metadata": {},
   "outputs": [
    {
     "name": "stdout",
     "output_type": "stream",
     "text": [
      "Estimate: 10.00000082740371\n",
      "True: 10\n"
     ]
    }
   ],
   "source": [
    "# f(x) = x^2\n",
    "# f(x) = 2x\n",
    "# Evaluate at x = 5\n",
    "\n",
    "h = 1e-10\n",
    "x = 5\n",
    "\n",
    "# Print check\n",
    "print(f\"Estimate: {((x+h)**2 - x**2) / h}\")\n",
    "print(f\"True: {2*x}\")"
   ]
  },
  {
   "cell_type": "code",
   "execution_count": 11,
   "metadata": {},
   "outputs": [
    {
     "name": "stdout",
     "output_type": "stream",
     "text": [
      "Estimate: 12.000000992884452\n",
      "True: 12\n"
     ]
    }
   ],
   "source": [
    "# f(x) = x^3\n",
    "# f(x) = 3x^2\n",
    "# Evaluate at x = 2\n",
    "\n",
    "h = 1e-10\n",
    "x = 2\n",
    "\n",
    "# Print check\n",
    "# Print check\n",
    "print(f\"Estimate: {((x+h)**3 - x**3) / h}\")\n",
    "print(f\"True: {3*x**2}\")"
   ]
  },
  {
   "cell_type": "code",
   "execution_count": 12,
   "metadata": {},
   "outputs": [
    {
     "name": "stdout",
     "output_type": "stream",
     "text": [
      "Estimate: -1.000000082740371\n",
      "True: -1\n"
     ]
    }
   ],
   "source": [
    "# f(x) = 1/x\n",
    "# f(x) = 1/x^2\n",
    "# Evaluate at x = 1\n",
    "\n",
    "h = 1e-10\n",
    "x = 1\n",
    "\n",
    "# Print check\n",
    "print(f\"Estimate: {(1/(x+h) - 1/x) / h}\")\n",
    "print(f\"True: {-1*x**2}\")"
   ]
  },
  {
   "cell_type": "code",
   "execution_count": 13,
   "metadata": {},
   "outputs": [
    {
     "name": "stdout",
     "output_type": "stream",
     "text": [
      "Estimate: 0.2886757499709347\n",
      "True: 0.2886751345948129\n"
     ]
    }
   ],
   "source": [
    "import math\n",
    "# f(x) = sqrt(x)\n",
    "# f(x) = 0.5 / sqrt(x)\n",
    "# Evaluate at x = 3\n",
    "\n",
    "h = 1e-10\n",
    "x = 3\n",
    "\n",
    "# Print check\n",
    "print(f\"Estimate: {(math.sqrt(x+h) - math.sqrt(x)) / h}\")\n",
    "print(f\"True: {0.5 / math.sqrt(x)}\")"
   ]
  },
  {
   "cell_type": "code",
   "execution_count": null,
   "metadata": {},
   "outputs": [],
   "source": []
  }
 ],
 "metadata": {
  "kernelspec": {
   "display_name": "Python 3",
   "language": "python",
   "name": "python3"
  },
  "language_info": {
   "codemirror_mode": {
    "name": "ipython",
    "version": 3
   },
   "file_extension": ".py",
   "mimetype": "text/x-python",
   "name": "python",
   "nbconvert_exporter": "python",
   "pygments_lexer": "ipython3",
   "version": "3.11.4"
  }
 },
 "nbformat": 4,
 "nbformat_minor": 2
}
